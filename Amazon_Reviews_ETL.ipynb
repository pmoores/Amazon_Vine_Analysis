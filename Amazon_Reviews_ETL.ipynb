{
  "nbformat": 4,
  "nbformat_minor": 0,
  "metadata": {
    "colab": {
      "name": "Amazon_Reviews_ETL.ipynb",
      "provenance": [],
      "collapsed_sections": []
    },
    "kernelspec": {
      "name": "python3",
      "display_name": "Python 3"
    },
    "nteract": {
      "version": "0.12.3"
    },
    "language_info": {
      "name": "python"
    }
  },
  "cells": [
    {
      "cell_type": "code",
      "metadata": {
        "id": "V58rxea0HqSa",
        "colab": {
          "base_uri": "https://localhost:8080/"
        },
        "outputId": "fcaf9305-c2b0-43b8-d69e-0e20d96ff5ac"
      },
      "source": [
        "import os\n",
        "# Find the latest version of spark 3.0 from http://www.apache.org/dist/spark/ and enter as the spark version\n",
        "# For example:\n",
        "# spark_version = 'spark-3.0.3'\n",
        "spark_version = 'spark-3.0.3'\n",
        "os.environ['SPARK_VERSION']=spark_version\n",
        "\n",
        "# Install Spark and Java\n",
        "!apt-get update\n",
        "!apt-get install openjdk-11-jdk-headless -qq > /dev/null\n",
        "!wget -q http://www.apache.org/dist/spark/$SPARK_VERSION/$SPARK_VERSION-bin-hadoop2.7.tgz\n",
        "!tar xf $SPARK_VERSION-bin-hadoop2.7.tgz\n",
        "!pip install -q findspark\n",
        "\n",
        "# Set Environment Variables\n",
        "import os\n",
        "os.environ[\"JAVA_HOME\"] = \"/usr/lib/jvm/java-11-openjdk-amd64\"\n",
        "os.environ[\"SPARK_HOME\"] = f\"/content/{spark_version}-bin-hadoop2.7\"\n",
        "\n",
        "# Start a SparkSession\n",
        "import findspark\n",
        "findspark.init()"
      ],
      "execution_count": 1,
      "outputs": [
        {
          "output_type": "stream",
          "name": "stdout",
          "text": [
            "\r0% [Working]\r            \rHit:1 https://cloud.r-project.org/bin/linux/ubuntu bionic-cran40/ InRelease\n",
            "\r0% [Connecting to archive.ubuntu.com (91.189.88.152)] [Waiting for headers] [Co\r0% [1 InRelease gpgv 3,626 B] [Connecting to archive.ubuntu.com (91.189.88.152)\r                                                                               \rIgn:2 https://developer.download.nvidia.com/compute/cuda/repos/ubuntu1804/x86_64  InRelease\n",
            "\r0% [1 InRelease gpgv 3,626 B] [Connecting to archive.ubuntu.com (91.189.88.152)\r                                                                               \rIgn:3 https://developer.download.nvidia.com/compute/machine-learning/repos/ubuntu1804/x86_64  InRelease\n",
            "\r0% [1 InRelease gpgv 3,626 B] [Connecting to archive.ubuntu.com (91.189.88.152)\r                                                                               \rGet:4 http://security.ubuntu.com/ubuntu bionic-security InRelease [88.7 kB]\n",
            "\r0% [1 InRelease gpgv 3,626 B] [Connecting to archive.ubuntu.com (91.189.88.152)\r                                                                               \rHit:5 https://developer.download.nvidia.com/compute/cuda/repos/ubuntu1804/x86_64  Release\n",
            "Hit:6 https://developer.download.nvidia.com/compute/machine-learning/repos/ubuntu1804/x86_64  Release\n",
            "Hit:7 http://archive.ubuntu.com/ubuntu bionic InRelease\n",
            "Hit:8 http://ppa.launchpad.net/c2d4u.team/c2d4u4.0+/ubuntu bionic InRelease\n",
            "Get:9 http://archive.ubuntu.com/ubuntu bionic-updates InRelease [88.7 kB]\n",
            "Hit:11 http://ppa.launchpad.net/cran/libgit2/ubuntu bionic InRelease\n",
            "Hit:13 http://ppa.launchpad.net/deadsnakes/ppa/ubuntu bionic InRelease\n",
            "Get:14 http://archive.ubuntu.com/ubuntu bionic-backports InRelease [74.6 kB]\n",
            "Hit:15 http://ppa.launchpad.net/graphics-drivers/ppa/ubuntu bionic InRelease\n",
            "Fetched 252 kB in 2s (106 kB/s)\n",
            "Reading package lists... Done\n"
          ]
        }
      ]
    },
    {
      "cell_type": "code",
      "metadata": {
        "id": "_xKwTpATHqSe",
        "colab": {
          "base_uri": "https://localhost:8080/"
        },
        "outputId": "7ba65908-9db2-4722-d797-938d5d08abef"
      },
      "source": [
        "# Download the Postgres driver that will allow Spark to interact with Postgres.\n",
        "!wget https://jdbc.postgresql.org/download/postgresql-42.2.16.jar"
      ],
      "execution_count": 2,
      "outputs": [
        {
          "output_type": "stream",
          "name": "stdout",
          "text": [
            "--2021-10-23 21:26:21--  https://jdbc.postgresql.org/download/postgresql-42.2.16.jar\n",
            "Resolving jdbc.postgresql.org (jdbc.postgresql.org)... 72.32.157.228, 2001:4800:3e1:1::228\n",
            "Connecting to jdbc.postgresql.org (jdbc.postgresql.org)|72.32.157.228|:443... connected.\n",
            "HTTP request sent, awaiting response... 200 OK\n",
            "Length: 1002883 (979K) [application/java-archive]\n",
            "Saving to: ‘postgresql-42.2.16.jar.2’\n",
            "\n",
            "postgresql-42.2.16. 100%[===================>] 979.38K  4.94MB/s    in 0.2s    \n",
            "\n",
            "2021-10-23 21:26:22 (4.94 MB/s) - ‘postgresql-42.2.16.jar.2’ saved [1002883/1002883]\n",
            "\n"
          ]
        }
      ]
    },
    {
      "cell_type": "code",
      "metadata": {
        "id": "MMqDAjVS0KN9"
      },
      "source": [
        "from pyspark.sql import SparkSession\n",
        "spark = SparkSession.builder.appName(\"M16-Amazon-Challenge\").config(\"spark.driver.extraClassPath\",\"/content/postgresql-42.2.16.jar\").getOrCreate()"
      ],
      "execution_count": 66,
      "outputs": []
    },
    {
      "cell_type": "markdown",
      "metadata": {
        "id": "cyBsySGuY-9V"
      },
      "source": [
        "### Load Amazon Data into Spark DataFrame"
      ]
    },
    {
      "cell_type": "code",
      "metadata": {
        "id": "CtCmBhQJY-9Z",
        "colab": {
          "base_uri": "https://localhost:8080/"
        },
        "outputId": "b06be5e6-4088-4b9e-e5e8-6ace4ebb103c"
      },
      "source": [
        "from pyspark import SparkFiles\n",
        "url = \"https://s3.amazonaws.com/amazon-reviews-pds/tsv/amazon_reviews_us_Toys_v1_00.tsv.gz\"\n",
        "spark.sparkContext.addFile(url)\n",
        "reviews_df = spark.read.option(\"encoding\", \"UTF-8\").csv(SparkFiles.get(\"\"), sep=\"\\t\", header=True, inferSchema=True)\n",
        "reviews_df.show()"
      ],
      "execution_count": 67,
      "outputs": [
        {
          "output_type": "stream",
          "name": "stdout",
          "text": [
            "+-----------+-----------+--------------+----------+--------------+--------------------+----------------+-----------+-------------+-----------+----+-----------------+--------------------+--------------------+-----------+\n",
            "|marketplace|customer_id|     review_id|product_id|product_parent|       product_title|product_category|star_rating|helpful_votes|total_votes|vine|verified_purchase|     review_headline|         review_body|review_date|\n",
            "+-----------+-----------+--------------+----------+--------------+--------------------+----------------+-----------+-------------+-----------+----+-----------------+--------------------+--------------------+-----------+\n",
            "|         US|   18778586| RDIJS7QYB6XNR|B00EDBY7X8|     122952789|Monopoly Junior B...|            Toys|          5|            0|          0|   N|                Y|          Five Stars|        Excellent!!!| 2015-08-31|\n",
            "|         US|   24769659|R36ED1U38IELG8|B00D7JFOPC|     952062646|56 Pieces of Wood...|            Toys|          5|            0|          0|   N|                Y|Good quality trac...|Great quality woo...| 2015-08-31|\n",
            "|         US|   44331596| R1UE3RPRGCOLD|B002LHA74O|     818126353|Super Jumbo Playi...|            Toys|          2|            1|          1|   N|                Y|           Two Stars|Cards are not as ...| 2015-08-31|\n",
            "|         US|   23310293|R298788GS6I901|B00ARPLCGY|     261944918|Barbie Doll and F...|            Toys|          5|            0|          0|   N|                Y|my daughter loved...|my daughter loved...| 2015-08-31|\n",
            "|         US|   38745832|  RNX4EXOBBPN5|B00UZOPOFW|     717410439|Emazing Lights eL...|            Toys|          1|            1|          1|   N|                Y|     DONT BUY THESE!|Do not buy these!...| 2015-08-31|\n",
            "|         US|   13394189|R3BPETL222LMIM|B009B7F6CA|     873028700|Melissa & Doug Wa...|            Toys|          5|            0|          0|   N|                Y|          Five Stars|Great item. Pictu...| 2015-08-31|\n",
            "|         US|    2749569|R3SORMPJZO3F2J|B0101EHRSM|     723424342|Big Bang Cosmic P...|            Toys|          3|            2|          2|   N|                Y|         Three Stars|To keep together,...| 2015-08-31|\n",
            "|         US|   41137196|R2RDOJQ0WBZCF6|B00407S11Y|     383363775|Fun Express Insec...|            Toys|          5|            0|          0|   N|                Y|          Five Stars|I was pleased wit...| 2015-08-31|\n",
            "|         US|     433677|R2B8VBEPB4YEZ7|B00FGPU7U2|     780517568|Fisher-Price Octo...|            Toys|          5|            0|          0|   N|                Y|          Five Stars|    Children like it| 2015-08-31|\n",
            "|         US|    1297934|R1CB783I7B0U52|B0013OY0S0|     269360126|Claw Climber Goli...|            Toys|          1|            0|          1|   N|                Y|Shame on the sell...|Showed up not how...| 2015-08-31|\n",
            "|         US|   52006292| R2D90RQQ3V8LH|B00519PJTW|     493486387|100 Foot Multicol...|            Toys|          5|            0|          0|   N|                Y|          Five Stars|Really liked thes...| 2015-08-31|\n",
            "|         US|   32071052|R1Y4ZOUGFMJ327|B001TCY2DO|     459122467|Pig Jumbo Foil Ba...|            Toys|          5|            0|          0|   N|                Y|   Nice huge balloon|Nice huge balloon...| 2015-08-31|\n",
            "|         US|    7360347|R2BUV9QJI2A00X|B00DOQCWF8|     226984155|Minecraft Animal ...|            Toys|          5|            0|          1|   N|                Y|          Five Stars|          Great deal| 2015-08-31|\n",
            "|         US|   11613707| RSUHRJFJIRB3Z|B004C04I4I|     375659886|Disney Baby: Eeyo...|            Toys|          4|            0|          0|   N|                Y|          Four Stars|       As Advertised| 2015-08-31|\n",
            "|         US|   13545982|R1T96CG98BBA15|B00NWGEKBY|     933734136|Team Losi 8IGHT-E...|            Toys|          3|            2|          4|   N|                Y|... servo so expe...|Comes w a 15$ ser...| 2015-08-31|\n",
            "|         US|   43880421| R2ATXF4QQ30YW|B00000JS5S|     341842639|Hot Wheels 48- Ca...|            Toys|          5|            0|          0|   N|                Y|          Five Stars|   awesome ! Thanks!| 2015-08-31|\n",
            "|         US|    1662075|R1YS3DS218NNMD|B00XPWXYDK|     210135375|ZuZo 2.4GHz 4 CH ...|            Toys|          5|            4|          4|   N|                N|The closest relev...|I got this item f...| 2015-08-31|\n",
            "|         US|   18461411|R2SDXLTLF92O0H|B00VPXX92W|     705054378|Teenage Mutant Ni...|            Toys|          5|            0|          0|   N|                Y|          Five Stars|It was a birthday...| 2015-08-31|\n",
            "|         US|   27225859| R4R337CCDWLNG|B00YRA3H4U|     223420727|Franklin Sports M...|            Toys|          3|            0|          1|   Y|                N|Got wrong product...|Got a wrong produ...| 2015-08-31|\n",
            "|         US|   20494593|R32Z6UA4S5Q630|B009T8BSQY|     787701676|Alien Frontiers: ...|            Toys|          1|            0|          0|   N|                Y|         Overpriced.|You need expansio...| 2015-08-31|\n",
            "+-----------+-----------+--------------+----------+--------------+--------------------+----------------+-----------+-------------+-----------+----+-----------------+--------------------+--------------------+-----------+\n",
            "only showing top 20 rows\n",
            "\n"
          ]
        }
      ]
    },
    {
      "cell_type": "markdown",
      "metadata": {
        "id": "2yUSe55VY-9t"
      },
      "source": [
        "### Create DataFrames to match tables"
      ]
    },
    {
      "cell_type": "code",
      "metadata": {
        "id": "C8REmY1aY-9u"
      },
      "source": [
        "from pyspark.sql.functions import to_date"
      ],
      "execution_count": 68,
      "outputs": []
    },
    {
      "cell_type": "code",
      "metadata": {
        "id": "B0TESUDRY-90",
        "colab": {
          "base_uri": "https://localhost:8080/"
        },
        "outputId": "8929a8d7-6f39-4170-b3fc-fc677245ee0b"
      },
      "source": [
        "# Create customers_df\n",
        "customers_df = reviews_df.groupby(\"customer_id\").agg({\"*\": \"count\"}).withColumnRenamed(\"count(1)\", \"customer_count\")\n",
        "customers_df.show()"
      ],
      "execution_count": 69,
      "outputs": [
        {
          "output_type": "stream",
          "name": "stdout",
          "text": [
            "+-----------+--------------+\n",
            "|customer_id|customer_count|\n",
            "+-----------+--------------+\n",
            "|   16989307|             1|\n",
            "|   45632184|             2|\n",
            "|   14703850|            13|\n",
            "|   49645387|             2|\n",
            "|   16343477|             1|\n",
            "|   15554899|             1|\n",
            "|   17067926|             1|\n",
            "|   50843047|             2|\n",
            "|    4051424|             1|\n",
            "|   11487525|             1|\n",
            "|   19371753|             1|\n",
            "|   18634862|             1|\n",
            "|   14552054|             1|\n",
            "|   52695798|             1|\n",
            "|   49438424|             3|\n",
            "|   10854449|             9|\n",
            "|   48521319|             1|\n",
            "|   11839424|             2|\n",
            "|   27887950|             1|\n",
            "|   45392827|             3|\n",
            "+-----------+--------------+\n",
            "only showing top 20 rows\n",
            "\n"
          ]
        }
      ]
    },
    {
      "cell_type": "code",
      "metadata": {
        "id": "4FwXA6UvY-96",
        "colab": {
          "base_uri": "https://localhost:8080/"
        },
        "outputId": "3baa7b2d-62f0-44e4-fd2d-269f1ea24de9"
      },
      "source": [
        "# Create products_df and drop duplicates. \n",
        "products_df = reviews_df.select([\"product_id\", \"product_title\"]).drop_duplicates()\n",
        "products_df.show()"
      ],
      "execution_count": 81,
      "outputs": [
        {
          "output_type": "stream",
          "name": "stdout",
          "text": [
            "+----------+--------------------+\n",
            "|product_id|       product_title|\n",
            "+----------+--------------------+\n",
            "|B00IANTUPU|Lego, Star Wars, ...|\n",
            "|B002TMK962|Rock - Concert Ti...|\n",
            "|B00AOTTSQY|Adult & Children ...|\n",
            "|B00CH3O5S6|48 Wholesale Wood...|\n",
            "|B00MF3SAF2|Teenitor 3.7V 680...|\n",
            "|B004D0C5WY|ThinkMax Silver B...|\n",
            "|B00NHQHJZS|LEGO Technic Arct...|\n",
            "|B00NQJ2DBG|Super Bright Long...|\n",
            "|B0082IGA06|Yu-Gi-Oh! - Dark ...|\n",
            "|1609581520|American Girl Car...|\n",
            "|B004RGYVLC|DC Comics POP Her...|\n",
            "|B0053EX3D4|Inuyasha Kirara T...|\n",
            "|B00OTLHNI8|Bloco Toys T-Rex ...|\n",
            "|B00BXEYI8W|Kid Galaxy Robot ...|\n",
            "|B00JUG2NSM|Weiss Schwarz Kil...|\n",
            "|B00LVPY252|Maxx Action 30\" T...|\n",
            "|B00IGRHWSC|Mattel Hot Wheels...|\n",
            "|B00U6FU3YM|Educational Insig...|\n",
            "|B00Z7FS3Q6|Beach Ball Set, 3...|\n",
            "|B000WEAGTY|Inflatable Tradit...|\n",
            "+----------+--------------------+\n",
            "only showing top 20 rows\n",
            "\n"
          ]
        }
      ]
    },
    {
      "cell_type": "code",
      "metadata": {
        "id": "MkqyCuNQY-9-",
        "colab": {
          "base_uri": "https://localhost:8080/"
        },
        "outputId": "ada7f360-4757-4a98-ba08-22f127e8ccff"
      },
      "source": [
        "# Create review_id_df \n",
        "# Convert the 'review_date' column to a date datatype with to_date(\"review_date\", 'yyyy-MM-dd').alias(\"review_date\")\n",
        "review_id_df = reviews_df.select([\"review_id\", \"customer_id\", \"product_id\", \"product_parent\", to_date(\"review_date\", 'yyyy-MM-dd').alias(\"review_date\")])\n",
        "review_id_df.show()"
      ],
      "execution_count": 75,
      "outputs": [
        {
          "output_type": "stream",
          "name": "stdout",
          "text": [
            "+--------------+-----------+----------+--------------+-----------+\n",
            "|     review_id|customer_id|product_id|product_parent|review_date|\n",
            "+--------------+-----------+----------+--------------+-----------+\n",
            "|R100I5J3RRZ11O|   25900467|B00CZ21AJG|     864194424| 2015-02-27|\n",
            "|R100R05QSIL612|   36538264|B001V9ACMK|     476749154| 2014-01-03|\n",
            "|R100TZ1EC98UWW|   35574573|B00008W72D|      39700156| 2014-11-07|\n",
            "|R100UUOG2DE7XW|    3001255|B00IK6AI5I|     912222041| 2014-08-29|\n",
            "|R100YEWZT398BA|    5182848|B00F4LYUMO|     938068194| 2015-07-20|\n",
            "| R1018NS1IXQSP|   48845208|B002IPGXVA|     502904590| 2015-01-25|\n",
            "|R1019B0Y3HPOBW|   47595692|B0084VB54W|      82332203| 2013-09-05|\n",
            "|R101G39LBIPJBD|   50339089|B00DK25JMO|     529704331| 2015-01-31|\n",
            "|R101X0FUM5WDCZ|   24146893|B004T8JWA8|     881882087| 2015-02-13|\n",
            "|R102JT4CNLWNHA|   42515462|B008QPHB30|     841862212| 2013-01-10|\n",
            "|R1032TWY3L37UM|   43980953|B00005O0EU|     812312514| 2008-10-08|\n",
            "|R10370H6JTGUFK|   16105646|B001KPMG06|     715905213| 2014-06-20|\n",
            "|R103LACPFZZRDW|   47010237|B00851VGKY|     671040434| 2013-10-03|\n",
            "|R104P5IUZ427NN|   13046935|B00EPFSOT0|     236948100| 2014-01-07|\n",
            "|R104QCKQZF3E66|   31213500|B000I1D0BC|     245443070| 2014-07-13|\n",
            "|R104TS7NJHSKB7|   30963390|B000MSSX68|     869975275| 2015-06-16|\n",
            "|R1054ZD5F8PP5B|   34937255|B006GWBRDU|     838017496| 2013-12-30|\n",
            "|R10590LCQ945EV|   48334858|B00GDSZ88M|     950857116| 2014-05-29|\n",
            "|R105BFW0Z634DO|   22491103|B008C0KXYS|     907043874| 2014-01-06|\n",
            "|R105WIDYT8QDIW|   52933840|B000GM4OEU|      37184176| 2007-07-09|\n",
            "+--------------+-----------+----------+--------------+-----------+\n",
            "only showing top 20 rows\n",
            "\n"
          ]
        }
      ]
    },
    {
      "cell_type": "code",
      "metadata": {
        "id": "lzMmkdKmY--D",
        "colab": {
          "base_uri": "https://localhost:8080/"
        },
        "outputId": "b0978ad7-a113-414a-f71e-90b615875f6e"
      },
      "source": [
        "# Create the vine_df\n",
        "vine_df = reviews_df.select([\"review_id\", \"star_rating\", \"helpful_votes\", \"total_votes\", \"vine\", \"verified_purchase\" ])\n",
        "vine_df.show()"
      ],
      "execution_count": 72,
      "outputs": [
        {
          "output_type": "stream",
          "name": "stdout",
          "text": [
            "+--------------+-----------+-------------+-----------+----+-----------------+\n",
            "|     review_id|star_rating|helpful_votes|total_votes|vine|verified_purchase|\n",
            "+--------------+-----------+-------------+-----------+----+-----------------+\n",
            "| RDIJS7QYB6XNR|          5|            0|          0|   N|                Y|\n",
            "|R36ED1U38IELG8|          5|            0|          0|   N|                Y|\n",
            "| R1UE3RPRGCOLD|          2|            1|          1|   N|                Y|\n",
            "|R298788GS6I901|          5|            0|          0|   N|                Y|\n",
            "|  RNX4EXOBBPN5|          1|            1|          1|   N|                Y|\n",
            "|R3BPETL222LMIM|          5|            0|          0|   N|                Y|\n",
            "|R3SORMPJZO3F2J|          3|            2|          2|   N|                Y|\n",
            "|R2RDOJQ0WBZCF6|          5|            0|          0|   N|                Y|\n",
            "|R2B8VBEPB4YEZ7|          5|            0|          0|   N|                Y|\n",
            "|R1CB783I7B0U52|          1|            0|          1|   N|                Y|\n",
            "| R2D90RQQ3V8LH|          5|            0|          0|   N|                Y|\n",
            "|R1Y4ZOUGFMJ327|          5|            0|          0|   N|                Y|\n",
            "|R2BUV9QJI2A00X|          5|            0|          1|   N|                Y|\n",
            "| RSUHRJFJIRB3Z|          4|            0|          0|   N|                Y|\n",
            "|R1T96CG98BBA15|          3|            2|          4|   N|                Y|\n",
            "| R2ATXF4QQ30YW|          5|            0|          0|   N|                Y|\n",
            "|R1YS3DS218NNMD|          5|            4|          4|   N|                N|\n",
            "|R2SDXLTLF92O0H|          5|            0|          0|   N|                Y|\n",
            "| R4R337CCDWLNG|          3|            0|          1|   Y|                N|\n",
            "|R32Z6UA4S5Q630|          1|            0|          0|   N|                Y|\n",
            "+--------------+-----------+-------------+-----------+----+-----------------+\n",
            "only showing top 20 rows\n",
            "\n"
          ]
        }
      ]
    },
    {
      "cell_type": "markdown",
      "metadata": {
        "id": "jITZhLkmY--J"
      },
      "source": [
        "### Connect to the AWS RDS instance and write each DataFrame to its table. "
      ]
    },
    {
      "cell_type": "code",
      "metadata": {
        "id": "7jiUvs1aY--L",
        "colab": {
          "base_uri": "https://localhost:8080/"
        },
        "outputId": "3011a2e2-26e3-4792-d9fa-7a8a5c1cd9cc"
      },
      "source": [
        "# Store environmental variable\n",
        "from getpass import getpass\n",
        "password = getpass('Enter Database Password')\n",
        "\n",
        "# Configure settings for RDS\n",
        "mode = \"append\"\n",
        "jdbc_url=\"jdbc:postgresql://amazon-vine-analysis.cqe46adpa2y1.ca-central-1.rds.amazonaws.com:5432/postgres\"\n",
        "config = {\"user\":\"postgres\", \n",
        "          \"password\": password, \n",
        "          \"driver\":\"org.postgresql.Driver\"}"
      ],
      "execution_count": 79,
      "outputs": [
        {
          "name": "stdout",
          "output_type": "stream",
          "text": [
            "Enter Database Password··········\n"
          ]
        }
      ]
    },
    {
      "cell_type": "code",
      "metadata": {
        "id": "T2zgZ-aKY--Q"
      },
      "source": [
        "# Write review_id_df to table in RDS\n",
        "review_id_df.write.jdbc(url=jdbc_url, table='review_id_table', mode=mode, properties=config)"
      ],
      "execution_count": null,
      "outputs": []
    },
    {
      "cell_type": "code",
      "metadata": {
        "id": "1m3yzn-LY--U"
      },
      "source": [
        "# Write products_df to table in RDS\n",
        "products_df.write.jdbc(url=jdbc_url, table='products_table', mode=mode, properties=config)"
      ],
      "execution_count": null,
      "outputs": []
    },
    {
      "cell_type": "code",
      "metadata": {
        "id": "KbXri15fY--Z"
      },
      "source": [
        "# Write customers_df to table in RDS\n",
        "customers_df.write.jdbc(url=jdbc_url, table='customers_table', mode=mode, properties=config)"
      ],
      "execution_count": 78,
      "outputs": []
    },
    {
      "cell_type": "code",
      "metadata": {
        "id": "XdQknSHLY--e"
      },
      "source": [
        "# Write vine_df to table in RDS\n",
        "vine_df.write.jdbc(url=jdbc_url, table='vine_table', mode=mode, properties=config)"
      ],
      "execution_count": 80,
      "outputs": []
    }
  ]
}